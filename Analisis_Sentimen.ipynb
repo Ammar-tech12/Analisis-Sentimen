{
 "cells": [
  {
   "cell_type": "code",
   "execution_count": 149,
   "id": "480f8c4e-65c1-4ac0-895e-23cb94402855",
   "metadata": {},
   "outputs": [],
   "source": [
    "from warnings import filterwarnings\n",
    "import matplotlib.pyplot as plt\n",
    "import numpy as np\n",
    "import pandas as pd\n",
    "import nltk\n",
    "import textblob\n",
    "from PIL import Image\n",
    "from nltk.corpus import stopwords\n",
    "from nltk.sentiment import SentimentIntensityAnalyzer\n",
    "from sklearn.feature_extraction.text import CountVectorizer\n",
    "from sklearn.feature_extraction.text import TfidfVectorizer\n",
    "from sklearn.ensemble import RandomForestClassifier\n",
    "from sklearn.linear_model import LogisticRegression\n",
    "from sklearn.model_selection import cross_val_score, GridSearchCV, cross_validate\n",
    "from sklearn.preprocessing import LabelEncoder\n",
    "from textblob import Word, TextBlob\n",
    "from wordcloud import WordCloud"
   ]
  },
  {
   "cell_type": "code",
   "execution_count": 150,
   "id": "508d1dd8-1be7-42b5-8fbd-92fe8a2fc8f1",
   "metadata": {},
   "outputs": [],
   "source": [
    "filterwarnings('ignore')\n",
    "pd.set_option('display.max_columns', None)\n",
    "pd.set_option('display.width', 200)\n",
    "pd.set_option('display.float_format', lambda x: '%.2f' % x)"
   ]
  },
  {
   "cell_type": "markdown",
   "id": "53777623-3650-49a3-98cf-974d964003d0",
   "metadata": {},
   "source": [
    "# Text Preprocessing"
   ]
  },
  {
   "cell_type": "code",
   "execution_count": null,
   "id": "3185c09c-daa9-45fe-bfe0-2ed8427be912",
   "metadata": {},
   "outputs": [],
   "source": []
  },
  {
   "cell_type": "code",
   "execution_count": 108,
   "id": "7d2da91c-5777-45e5-aaee-d9aabc0fa0a1",
   "metadata": {},
   "outputs": [],
   "source": [
    "df = pd.read_csv(\"amazon_reviews.csv\")"
   ]
  },
  {
   "cell_type": "code",
   "execution_count": 109,
   "id": "01e20ed9-ccfb-4dcd-bd27-169aa4fdaad4",
   "metadata": {},
   "outputs": [
    {
     "data": {
      "text/html": [
       "<div>\n",
       "<style scoped>\n",
       "    .dataframe tbody tr th:only-of-type {\n",
       "        vertical-align: middle;\n",
       "    }\n",
       "\n",
       "    .dataframe tbody tr th {\n",
       "        vertical-align: top;\n",
       "    }\n",
       "\n",
       "    .dataframe thead th {\n",
       "        text-align: right;\n",
       "    }\n",
       "</style>\n",
       "<table border=\"1\" class=\"dataframe\">\n",
       "  <thead>\n",
       "    <tr style=\"text-align: right;\">\n",
       "      <th></th>\n",
       "      <th>reviewerID</th>\n",
       "      <th>asin</th>\n",
       "      <th>reviewerName</th>\n",
       "      <th>helpful</th>\n",
       "      <th>reviewText</th>\n",
       "      <th>overall</th>\n",
       "      <th>summary</th>\n",
       "      <th>unixReviewTime</th>\n",
       "      <th>reviewTime</th>\n",
       "      <th>day_diff</th>\n",
       "      <th>helpful_yes</th>\n",
       "      <th>total_vote</th>\n",
       "    </tr>\n",
       "  </thead>\n",
       "  <tbody>\n",
       "    <tr>\n",
       "      <th>0</th>\n",
       "      <td>A3SBTW3WS4IQSN</td>\n",
       "      <td>B007WTAJTO</td>\n",
       "      <td>NaN</td>\n",
       "      <td>[0, 0]</td>\n",
       "      <td>No issues.</td>\n",
       "      <td>4.00</td>\n",
       "      <td>Four Stars</td>\n",
       "      <td>1406073600</td>\n",
       "      <td>2014-07-23</td>\n",
       "      <td>138</td>\n",
       "      <td>0</td>\n",
       "      <td>0</td>\n",
       "    </tr>\n",
       "    <tr>\n",
       "      <th>1</th>\n",
       "      <td>A18K1ODH1I2MVB</td>\n",
       "      <td>B007WTAJTO</td>\n",
       "      <td>0mie</td>\n",
       "      <td>[0, 0]</td>\n",
       "      <td>Purchased this for my device, it worked as adv...</td>\n",
       "      <td>5.00</td>\n",
       "      <td>MOAR SPACE!!!</td>\n",
       "      <td>1382659200</td>\n",
       "      <td>2013-10-25</td>\n",
       "      <td>409</td>\n",
       "      <td>0</td>\n",
       "      <td>0</td>\n",
       "    </tr>\n",
       "    <tr>\n",
       "      <th>2</th>\n",
       "      <td>A2FII3I2MBMUIA</td>\n",
       "      <td>B007WTAJTO</td>\n",
       "      <td>1K3</td>\n",
       "      <td>[0, 0]</td>\n",
       "      <td>it works as expected. I should have sprung for...</td>\n",
       "      <td>4.00</td>\n",
       "      <td>nothing to really say....</td>\n",
       "      <td>1356220800</td>\n",
       "      <td>2012-12-23</td>\n",
       "      <td>715</td>\n",
       "      <td>0</td>\n",
       "      <td>0</td>\n",
       "    </tr>\n",
       "    <tr>\n",
       "      <th>3</th>\n",
       "      <td>A3H99DFEG68SR</td>\n",
       "      <td>B007WTAJTO</td>\n",
       "      <td>1m2</td>\n",
       "      <td>[0, 0]</td>\n",
       "      <td>This think has worked out great.Had a diff. br...</td>\n",
       "      <td>5.00</td>\n",
       "      <td>Great buy at this price!!!  *** UPDATE</td>\n",
       "      <td>1384992000</td>\n",
       "      <td>2013-11-21</td>\n",
       "      <td>382</td>\n",
       "      <td>0</td>\n",
       "      <td>0</td>\n",
       "    </tr>\n",
       "    <tr>\n",
       "      <th>4</th>\n",
       "      <td>A375ZM4U047O79</td>\n",
       "      <td>B007WTAJTO</td>\n",
       "      <td>2&amp;amp;1/2Men</td>\n",
       "      <td>[0, 0]</td>\n",
       "      <td>Bought it with Retail Packaging, arrived legit...</td>\n",
       "      <td>5.00</td>\n",
       "      <td>best deal around</td>\n",
       "      <td>1373673600</td>\n",
       "      <td>2013-07-13</td>\n",
       "      <td>513</td>\n",
       "      <td>0</td>\n",
       "      <td>0</td>\n",
       "    </tr>\n",
       "  </tbody>\n",
       "</table>\n",
       "</div>"
      ],
      "text/plain": [
       "       reviewerID        asin  reviewerName helpful                                         reviewText  overall                                 summary  unixReviewTime  reviewTime  day_diff  \\\n",
       "0  A3SBTW3WS4IQSN  B007WTAJTO           NaN  [0, 0]                                         No issues.     4.00                              Four Stars      1406073600  2014-07-23       138   \n",
       "1  A18K1ODH1I2MVB  B007WTAJTO          0mie  [0, 0]  Purchased this for my device, it worked as adv...     5.00                           MOAR SPACE!!!      1382659200  2013-10-25       409   \n",
       "2  A2FII3I2MBMUIA  B007WTAJTO           1K3  [0, 0]  it works as expected. I should have sprung for...     4.00               nothing to really say....      1356220800  2012-12-23       715   \n",
       "3   A3H99DFEG68SR  B007WTAJTO           1m2  [0, 0]  This think has worked out great.Had a diff. br...     5.00  Great buy at this price!!!  *** UPDATE      1384992000  2013-11-21       382   \n",
       "4  A375ZM4U047O79  B007WTAJTO  2&amp;1/2Men  [0, 0]  Bought it with Retail Packaging, arrived legit...     5.00                        best deal around      1373673600  2013-07-13       513   \n",
       "\n",
       "   helpful_yes  total_vote  \n",
       "0            0           0  \n",
       "1            0           0  \n",
       "2            0           0  \n",
       "3            0           0  \n",
       "4            0           0  "
      ]
     },
     "execution_count": 109,
     "metadata": {},
     "output_type": "execute_result"
    }
   ],
   "source": [
    "df.head()"
   ]
  },
  {
   "cell_type": "markdown",
   "id": "6fddc0dc-2ad7-4e8c-aa64-d7f968b25eaa",
   "metadata": {},
   "source": [
    "# Dataset ini berisi ulasan produk dari Amazon, mencakup berbagai kategori dan tahun.\n",
    "\n",
    "## Atribut:\n",
    "\n",
    "ReviewerID: Identifikasi unik dari pengulas\n",
    "\n",
    "ProductID (asin): Identifikasi unik dari produk\n",
    "\n",
    "ReviewerName: Nama pengulas\n",
    "\n",
    "ReviewText: Teks ulasan\n",
    "\n",
    "Overall: Peringkat yang diberikan oleh pengulas\n",
    "\n",
    "Summary: Ringkasan singkat dari ulasan\n",
    "\n",
    "UnixReviewTime: Waktu ulasan dalam format UNIX\n",
    "\n",
    "ReviewTime: Waktu ulasan dalam format yang mudah dibaca manusia\n",
    "\n",
    "Helpful: Suara untuk ulasan yang dianggap membantu [helpful_yes, total_vote]\n",
    "\n",
    "Day_diff: Jumlah hari antara waktu ulasan dan waktu referensi tertentu\n",
    "\n",
    "Helpful_yes: Jumlah suara yang menyatakan ulasan tersebut membantu\n",
    "\n",
    "Total_vote: Jumlah total suara untuk ulasan tersebut\n",
    "\n",
    "## Tujuan: Melakukan analisis sentimen dan pemodelan sentimen pada teks ulasan untuk memahami preferensi dan tingkat kepuasan pelanggan."
   ]
  },
  {
   "cell_type": "markdown",
   "id": "1fb35deb-a3ca-4106-89cc-086fe40a8ddb",
   "metadata": {},
   "source": [
    "# Normalizing Case Folding\n",
    "semua teks pada kolom 'reviewText' diubah menjadi huruf kecil (lowercase). Standarisasi ini bertujuan untuk memastikan konsistensi dalam dataset dengan menghilangkan variasi yang disebabkan oleh perbedaan huruf kapital. Hal ini membantu meningkatkan efektivitas proses pemrosesan teks selanjutnya, seperti tokenisasi, penghapusan stopword, dan analisis sentimen."
   ]
  },
  {
   "cell_type": "code",
   "execution_count": 110,
   "id": "f146a420-28e9-4178-ac39-0c14714d99ae",
   "metadata": {},
   "outputs": [
    {
     "data": {
      "text/plain": [
       "0                                              No issues.\n",
       "1       Purchased this for my device, it worked as adv...\n",
       "2       it works as expected. I should have sprung for...\n",
       "3       This think has worked out great.Had a diff. br...\n",
       "4       Bought it with Retail Packaging, arrived legit...\n",
       "                              ...                        \n",
       "4910    I bought this Sandisk 16GB Class 10 to use wit...\n",
       "4911    Used this for extending the capabilities of my...\n",
       "4912    Great card that is very fast and reliable. It ...\n",
       "4913    Good amount of space for the stuff I want to d...\n",
       "4914    I've heard bad things about this 64gb Micro SD...\n",
       "Name: reviewText, Length: 4915, dtype: object"
      ]
     },
     "execution_count": 110,
     "metadata": {},
     "output_type": "execute_result"
    }
   ],
   "source": [
    "df['reviewText']"
   ]
  },
  {
   "cell_type": "code",
   "execution_count": 111,
   "id": "29ad43f8-6d3a-4c94-836a-0c935109f1cc",
   "metadata": {},
   "outputs": [],
   "source": [
    "df['reviewText'] = df['reviewText'].str.lower()"
   ]
  },
  {
   "cell_type": "code",
   "execution_count": 152,
   "id": "e237f236-4436-4f59-bf38-69b7211a2ace",
   "metadata": {},
   "outputs": [
    {
     "data": {
      "text/plain": [
       "0                                                   issue\n",
       "1       purchased device worked advertised never much ...\n",
       "2       work expected higher capacity think made bit e...\n",
       "3       think worked gb card went south one held prett...\n",
       "4       bought retail packaging arrived legit envelope...\n",
       "                              ...                        \n",
       "4910    bought sandisk gb class use htc inspire month ...\n",
       "4911    used capability samsung galaxy note greatly ex...\n",
       "4912    great card fast reliable come optional adapter...\n",
       "4913           good amount space stuff want fit gopro say\n",
       "4914    ive heard bad thing gb micro sd card crapping ...\n",
       "Name: reviewText, Length: 4915, dtype: object"
      ]
     },
     "execution_count": 152,
     "metadata": {},
     "output_type": "execute_result"
    }
   ],
   "source": [
    "df['reviewText']"
   ]
  },
  {
   "cell_type": "markdown",
   "id": "eabf9c42-83e8-4340-a641-54423d06b795",
   "metadata": {},
   "source": [
    "# Punctuations"
   ]
  },
  {
   "cell_type": "markdown",
   "id": "eaa34707-c69d-452f-8705-746f4179ea95",
   "metadata": {},
   "source": [
    "Pada langkah ini, kami menghapus tanda baca dari komentar pada kolom 'reviewText'. Proses ini bertujuan untuk meningkatkan efisiensi tugas pemrosesan bahasa dengan membuat data teks menjadi lebih bersih dan lebih sesuai untuk dianalisis."
   ]
  },
  {
   "cell_type": "code",
   "execution_count": 113,
   "id": "5c1c88b0-bfab-42f9-b196-5d43e20012af",
   "metadata": {},
   "outputs": [],
   "source": [
    "df['reviewText'] = df['reviewText'].str.replace('[^\\w\\s]', '', regex=True)"
   ]
  },
  {
   "cell_type": "code",
   "execution_count": 153,
   "id": "cacdf11e-923b-419f-95b9-53337621d27b",
   "metadata": {},
   "outputs": [
    {
     "data": {
      "text/plain": [
       "0                                                   issue\n",
       "1       purchased device worked advertised never much ...\n",
       "2       work expected higher capacity think made bit e...\n",
       "3       think worked gb card went south one held prett...\n",
       "4       bought retail packaging arrived legit envelope...\n",
       "                              ...                        \n",
       "4910    bought sandisk gb class use htc inspire month ...\n",
       "4911    used capability samsung galaxy note greatly ex...\n",
       "4912    great card fast reliable come optional adapter...\n",
       "4913           good amount space stuff want fit gopro say\n",
       "4914    ive heard bad thing gb micro sd card crapping ...\n",
       "Name: reviewText, Length: 4915, dtype: object"
      ]
     },
     "execution_count": 153,
     "metadata": {},
     "output_type": "execute_result"
    }
   ],
   "source": [
    "df['reviewText']"
   ]
  },
  {
   "cell_type": "markdown",
   "id": "6547a426-b6c0-44ab-beab-766d8d8b30ab",
   "metadata": {},
   "source": [
    "# Numbers"
   ]
  },
  {
   "cell_type": "markdown",
   "id": "c95d63de-2819-4642-950b-5a59b53c0783",
   "metadata": {},
   "source": [
    "Pada langkah ini, kami menghapus karakter angka dari komentar pada kolom 'reviewText'. Dengan menghilangkan angka dari teks, proses ini memungkinkan kami untuk lebih fokus pada tugas pemrosesan bahasa dan analisis teks. Dengan demikian, kami dapat berkonsentrasi sepenuhnya pada konten teks, sehingga analisis data menjadi lebih bersih dan bermakna."
   ]
  },
  {
   "cell_type": "code",
   "execution_count": 115,
   "id": "ecd10986-c293-4289-9182-fecc67ee28fa",
   "metadata": {},
   "outputs": [],
   "source": [
    "df['reviewText'] = df['reviewText'].str.replace('\\d', '', regex=True)"
   ]
  },
  {
   "cell_type": "code",
   "execution_count": 154,
   "id": "33b1bef4-c051-475b-8370-5c5da1b73f78",
   "metadata": {},
   "outputs": [
    {
     "data": {
      "text/plain": [
       "0                                                   issue\n",
       "1       purchased device worked advertised never much ...\n",
       "2       work expected higher capacity think made bit e...\n",
       "3       think worked gb card went south one held prett...\n",
       "4       bought retail packaging arrived legit envelope...\n",
       "                              ...                        \n",
       "4910    bought sandisk gb class use htc inspire month ...\n",
       "4911    used capability samsung galaxy note greatly ex...\n",
       "4912    great card fast reliable come optional adapter...\n",
       "4913           good amount space stuff want fit gopro say\n",
       "4914    ive heard bad thing gb micro sd card crapping ...\n",
       "Name: reviewText, Length: 4915, dtype: object"
      ]
     },
     "execution_count": 154,
     "metadata": {},
     "output_type": "execute_result"
    }
   ],
   "source": [
    "df['reviewText']"
   ]
  },
  {
   "cell_type": "markdown",
   "id": "0bda976b-0523-4006-808a-fbf3e946e09a",
   "metadata": {},
   "source": [
    "# Stopwords"
   ]
  },
  {
   "cell_type": "markdown",
   "id": "5b0b438c-3259-4dd6-a8b4-d1ee54622bc5",
   "metadata": {},
   "source": [
    "Pada bagian ini, dengan menghapus kata-kata yang sering muncul dan cenderung tidak memiliki makna penting (seperti 'the', 'is', 'in') dari teks, kita dapat memfokuskan analisis pada kata-kata yang lebih bermakna. Hal ini memungkinkan kita untuk lebih memahami inti dari komentar serta membuat proses NLP menjadi lebih efisien."
   ]
  },
  {
   "cell_type": "code",
   "execution_count": 117,
   "id": "ce704a8a-79ed-4294-a371-c94dab91c410",
   "metadata": {},
   "outputs": [
    {
     "name": "stderr",
     "output_type": "stream",
     "text": [
      "[nltk_data] Downloading package stopwords to\n",
      "[nltk_data]     C:\\Users\\Ammar\\AppData\\Roaming\\nltk_data...\n",
      "[nltk_data]   Package stopwords is already up-to-date!\n",
      "[nltk_data] Downloading package punkt to\n",
      "[nltk_data]     C:\\Users\\Ammar\\AppData\\Roaming\\nltk_data...\n",
      "[nltk_data]   Package punkt is already up-to-date!\n"
     ]
    },
    {
     "data": {
      "text/plain": [
       "True"
      ]
     },
     "execution_count": 117,
     "metadata": {},
     "output_type": "execute_result"
    }
   ],
   "source": [
    "nltk.download('stopwords')\n",
    "nltk.download('punkt')"
   ]
  },
  {
   "cell_type": "code",
   "execution_count": 118,
   "id": "bccc9571-2150-4b9e-bb8e-f6a0096f9f46",
   "metadata": {},
   "outputs": [],
   "source": [
    "sw = stopwords.words('english')"
   ]
  },
  {
   "cell_type": "code",
   "execution_count": 119,
   "id": "67a2a787-ba82-468c-b320-d02b8ea708b4",
   "metadata": {},
   "outputs": [
    {
     "data": {
      "text/plain": [
       "['a',\n",
       " 'about',\n",
       " 'above',\n",
       " 'after',\n",
       " 'again',\n",
       " 'against',\n",
       " 'ain',\n",
       " 'all',\n",
       " 'am',\n",
       " 'an',\n",
       " 'and',\n",
       " 'any',\n",
       " 'are',\n",
       " 'aren',\n",
       " \"aren't\",\n",
       " 'as',\n",
       " 'at',\n",
       " 'be',\n",
       " 'because',\n",
       " 'been',\n",
       " 'before',\n",
       " 'being',\n",
       " 'below',\n",
       " 'between',\n",
       " 'both',\n",
       " 'but',\n",
       " 'by',\n",
       " 'can',\n",
       " 'couldn',\n",
       " \"couldn't\",\n",
       " 'd',\n",
       " 'did',\n",
       " 'didn',\n",
       " \"didn't\",\n",
       " 'do',\n",
       " 'does',\n",
       " 'doesn',\n",
       " \"doesn't\",\n",
       " 'doing',\n",
       " 'don',\n",
       " \"don't\",\n",
       " 'down',\n",
       " 'during',\n",
       " 'each',\n",
       " 'few',\n",
       " 'for',\n",
       " 'from',\n",
       " 'further',\n",
       " 'had',\n",
       " 'hadn',\n",
       " \"hadn't\",\n",
       " 'has',\n",
       " 'hasn',\n",
       " \"hasn't\",\n",
       " 'have',\n",
       " 'haven',\n",
       " \"haven't\",\n",
       " 'having',\n",
       " 'he',\n",
       " \"he'd\",\n",
       " \"he'll\",\n",
       " 'her',\n",
       " 'here',\n",
       " 'hers',\n",
       " 'herself',\n",
       " \"he's\",\n",
       " 'him',\n",
       " 'himself',\n",
       " 'his',\n",
       " 'how',\n",
       " 'i',\n",
       " \"i'd\",\n",
       " 'if',\n",
       " \"i'll\",\n",
       " \"i'm\",\n",
       " 'in',\n",
       " 'into',\n",
       " 'is',\n",
       " 'isn',\n",
       " \"isn't\",\n",
       " 'it',\n",
       " \"it'd\",\n",
       " \"it'll\",\n",
       " \"it's\",\n",
       " 'its',\n",
       " 'itself',\n",
       " \"i've\",\n",
       " 'just',\n",
       " 'll',\n",
       " 'm',\n",
       " 'ma',\n",
       " 'me',\n",
       " 'mightn',\n",
       " \"mightn't\",\n",
       " 'more',\n",
       " 'most',\n",
       " 'mustn',\n",
       " \"mustn't\",\n",
       " 'my',\n",
       " 'myself',\n",
       " 'needn',\n",
       " \"needn't\",\n",
       " 'no',\n",
       " 'nor',\n",
       " 'not',\n",
       " 'now',\n",
       " 'o',\n",
       " 'of',\n",
       " 'off',\n",
       " 'on',\n",
       " 'once',\n",
       " 'only',\n",
       " 'or',\n",
       " 'other',\n",
       " 'our',\n",
       " 'ours',\n",
       " 'ourselves',\n",
       " 'out',\n",
       " 'over',\n",
       " 'own',\n",
       " 're',\n",
       " 's',\n",
       " 'same',\n",
       " 'shan',\n",
       " \"shan't\",\n",
       " 'she',\n",
       " \"she'd\",\n",
       " \"she'll\",\n",
       " \"she's\",\n",
       " 'should',\n",
       " 'shouldn',\n",
       " \"shouldn't\",\n",
       " \"should've\",\n",
       " 'so',\n",
       " 'some',\n",
       " 'such',\n",
       " 't',\n",
       " 'than',\n",
       " 'that',\n",
       " \"that'll\",\n",
       " 'the',\n",
       " 'their',\n",
       " 'theirs',\n",
       " 'them',\n",
       " 'themselves',\n",
       " 'then',\n",
       " 'there',\n",
       " 'these',\n",
       " 'they',\n",
       " \"they'd\",\n",
       " \"they'll\",\n",
       " \"they're\",\n",
       " \"they've\",\n",
       " 'this',\n",
       " 'those',\n",
       " 'through',\n",
       " 'to',\n",
       " 'too',\n",
       " 'under',\n",
       " 'until',\n",
       " 'up',\n",
       " 've',\n",
       " 'very',\n",
       " 'was',\n",
       " 'wasn',\n",
       " \"wasn't\",\n",
       " 'we',\n",
       " \"we'd\",\n",
       " \"we'll\",\n",
       " \"we're\",\n",
       " 'were',\n",
       " 'weren',\n",
       " \"weren't\",\n",
       " \"we've\",\n",
       " 'what',\n",
       " 'when',\n",
       " 'where',\n",
       " 'which',\n",
       " 'while',\n",
       " 'who',\n",
       " 'whom',\n",
       " 'why',\n",
       " 'will',\n",
       " 'with',\n",
       " 'won',\n",
       " \"won't\",\n",
       " 'wouldn',\n",
       " \"wouldn't\",\n",
       " 'y',\n",
       " 'you',\n",
       " \"you'd\",\n",
       " \"you'll\",\n",
       " 'your',\n",
       " \"you're\",\n",
       " 'yours',\n",
       " 'yourself',\n",
       " 'yourselves',\n",
       " \"you've\"]"
      ]
     },
     "execution_count": 119,
     "metadata": {},
     "output_type": "execute_result"
    }
   ],
   "source": [
    "sw"
   ]
  },
  {
   "cell_type": "code",
   "execution_count": 120,
   "id": "3bf90f8d-6916-4040-83e6-3dbee1bcae43",
   "metadata": {},
   "outputs": [],
   "source": [
    "df['reviewText'] = df['reviewText'].apply(lambda x: \" \".join(x for x in str(x).split() if x not in sw))"
   ]
  },
  {
   "cell_type": "code",
   "execution_count": 155,
   "id": "a0e0f875-2ca2-4ebd-8fd8-f72ead312333",
   "metadata": {},
   "outputs": [
    {
     "data": {
      "text/plain": [
       "0                                                   issue\n",
       "1       purchased device worked advertised never much ...\n",
       "2       work expected higher capacity think made bit e...\n",
       "3       think worked gb card went south one held prett...\n",
       "4       bought retail packaging arrived legit envelope...\n",
       "                              ...                        \n",
       "4910    bought sandisk gb class use htc inspire month ...\n",
       "4911    used capability samsung galaxy note greatly ex...\n",
       "4912    great card fast reliable come optional adapter...\n",
       "4913           good amount space stuff want fit gopro say\n",
       "4914    ive heard bad thing gb micro sd card crapping ...\n",
       "Name: reviewText, Length: 4915, dtype: object"
      ]
     },
     "execution_count": 155,
     "metadata": {},
     "output_type": "execute_result"
    }
   ],
   "source": [
    "df['reviewText']"
   ]
  },
  {
   "cell_type": "markdown",
   "id": "1dc46ac5-f37f-42f9-9adb-60a2f625a663",
   "metadata": {},
   "source": [
    "# Rarewords"
   ]
  },
  {
   "cell_type": "markdown",
   "id": "a948cea5-2d66-4f6b-b32f-2d77abba287f",
   "metadata": {},
   "source": [
    "Pada langkah ini, pertama-tama kami menggabungkan semua komentar dalam kolom 'reviewText', kemudian memecah teks hasil gabungan tersebut menjadi kata-kata dan menghitung frekuensi kemunculan setiap kata. Dari proses ini, kami mengidentifikasi kata-kata yang hanya muncul satu kali. Selanjutnya, kata-kata yang jarang digunakan ini dihapus dari komentar pada kolom 'reviewText'. Proses ini membantu menghilangkan kata-kata yang memiliki bobot semantik dan frekuensi rendah dalam teks, sehingga analisis dapat lebih difokuskan pada kata-kata yang lebih signifikan."
   ]
  },
  {
   "cell_type": "code",
   "execution_count": 122,
   "id": "bd783f17-b748-4230-be89-243edcf2fd8d",
   "metadata": {},
   "outputs": [],
   "source": [
    "temp_df = pd.Series(' '.join(df['reviewText']).split()).value_counts()"
   ]
  },
  {
   "cell_type": "code",
   "execution_count": 123,
   "id": "464f2929-9717-4b07-95e4-5912cf2a7530",
   "metadata": {},
   "outputs": [
    {
     "data": {
      "text/plain": [
       "card                4603\n",
       "gb                  1725\n",
       "phone               1685\n",
       "works               1559\n",
       "great               1445\n",
       "                    ... \n",
       "nitpicky               1\n",
       "unexpectedlythen       1\n",
       "gpe                    1\n",
       "gpad                   1\n",
       "prepard                1\n",
       "Name: count, Length: 9701, dtype: int64"
      ]
     },
     "execution_count": 123,
     "metadata": {},
     "output_type": "execute_result"
    }
   ],
   "source": [
    "temp_df"
   ]
  },
  {
   "cell_type": "code",
   "execution_count": 124,
   "id": "7a858605-388d-4749-8fc6-f7010aba11e9",
   "metadata": {},
   "outputs": [],
   "source": [
    "drops = temp_df[temp_df <= 1]"
   ]
  },
  {
   "cell_type": "code",
   "execution_count": 125,
   "id": "0ba7d89e-a7a7-4e9e-bbc7-ab8881bfd41f",
   "metadata": {},
   "outputs": [],
   "source": [
    "df['reviewText'] = df['reviewText'].apply(lambda x: \" \".join(x for x in x.split() if x not in drops))"
   ]
  },
  {
   "cell_type": "code",
   "execution_count": 126,
   "id": "55d7ec2b-4869-440b-a4bd-2a7783f0a7c3",
   "metadata": {},
   "outputs": [
    {
     "data": {
      "text/plain": [
       "0                                                  issues\n",
       "1       purchased device worked advertised never much ...\n",
       "2       works expected higher capacity think made bit ...\n",
       "3       think worked gb card went south one held prett...\n",
       "4       bought retail packaging arrived legit envelope...\n",
       "                              ...                        \n",
       "4910    bought sandisk gb class use htc inspire months...\n",
       "4911    used capabilities samsung galaxy note greatly ...\n",
       "4912    great card fast reliable comes optional adapte...\n",
       "4913          good amount space stuff want fits gopro say\n",
       "4914    ive heard bad things gb micro sd card crapping...\n",
       "Name: reviewText, Length: 4915, dtype: object"
      ]
     },
     "execution_count": 126,
     "metadata": {},
     "output_type": "execute_result"
    }
   ],
   "source": [
    "df['reviewText']"
   ]
  },
  {
   "cell_type": "code",
   "execution_count": 127,
   "id": "a9b3dd4e-fdbd-4b84-8628-7bd6cd663f49",
   "metadata": {},
   "outputs": [],
   "source": [
    "temp_df_1 = pd.Series(' '.join(df['reviewText']).split()).value_counts()"
   ]
  },
  {
   "cell_type": "code",
   "execution_count": 156,
   "id": "89d95c5e-970a-4c57-b9cd-61ae540cb408",
   "metadata": {},
   "outputs": [
    {
     "data": {
      "text/plain": [
       "card            4603\n",
       "gb              1725\n",
       "phone           1685\n",
       "works           1559\n",
       "great           1445\n",
       "                ... \n",
       "fue                2\n",
       "batches            2\n",
       "warehouses         2\n",
       "overuse            2\n",
       "hpusbdiskexe       2\n",
       "Name: count, Length: 4089, dtype: int64"
      ]
     },
     "execution_count": 156,
     "metadata": {},
     "output_type": "execute_result"
    }
   ],
   "source": [
    "temp_df_1"
   ]
  },
  {
   "cell_type": "markdown",
   "id": "529f6a3f-933f-415c-a7a9-8ea0d48ca532",
   "metadata": {},
   "source": [
    "# Tokenization"
   ]
  },
  {
   "cell_type": "markdown",
   "id": "ae3aee55-11fa-4321-9950-9781825684f0",
   "metadata": {},
   "source": [
    "Pada bagian ini, setiap komentar dalam kolom 'reviewText' diubah menjadi objek TextBlob dan kemudian ditokenisasi menjadi kata-kata. TextBlob memungkinkan kita untuk dengan mudah membagi komentar menjadi token (kata) yang dapat diproses. Proses ini memungkinkan kita untuk menelaah setiap kata dalam komentar secara individual dan melakukan analisis yang lebih mendetail berdasarkan kata-kata tersebut."
   ]
  },
  {
   "cell_type": "code",
   "execution_count": 157,
   "id": "8bf3124d-f24d-4405-83eb-6c7d78b85951",
   "metadata": {},
   "outputs": [
    {
     "data": {
      "text/plain": [
       "0                                              [issue]\n",
       "1    [purchased, device, worked, advertised, never,...\n",
       "2    [work, expected, higher, capacity, think, made...\n",
       "3    [think, worked, gb, card, went, south, one, he...\n",
       "4    [bought, retail, packaging, arrived, legit, en...\n",
       "Name: reviewText, dtype: object"
      ]
     },
     "execution_count": 157,
     "metadata": {},
     "output_type": "execute_result"
    }
   ],
   "source": [
    "df[\"reviewText\"].apply(lambda x: TextBlob(x).words).head()"
   ]
  },
  {
   "cell_type": "markdown",
   "id": "3c07596e-d3ca-4b04-ac01-7bbbeed1a094",
   "metadata": {},
   "source": [
    "# Lemmatization"
   ]
  },
  {
   "cell_type": "markdown",
   "id": "2a8578d6-d42c-47c0-a5d1-4d837ed3276f",
   "metadata": {},
   "source": [
    "Pada langkah ini, setiap kata dalam komentar pada kolom 'reviewText' dilematisasi untuk mendapatkan bentuk dasarnya. Lemmatization mengubah berbagai bentuk infleksi kata (seperti 'running' menjadi 'run') ke bentuk dasar. Proses ini memberikan kesempatan pemrosesan data yang lebih konsisten dan bermakna dalam analisis yang kami lakukan."
   ]
  },
  {
   "cell_type": "code",
   "execution_count": 130,
   "id": "5bc29ba9-a776-4c4c-91e7-979d75e83339",
   "metadata": {},
   "outputs": [
    {
     "name": "stderr",
     "output_type": "stream",
     "text": [
      "[nltk_data] Downloading package wordnet to\n",
      "[nltk_data]     C:\\Users\\Ammar\\AppData\\Roaming\\nltk_data...\n",
      "[nltk_data]   Package wordnet is already up-to-date!\n"
     ]
    },
    {
     "data": {
      "text/plain": [
       "True"
      ]
     },
     "execution_count": 130,
     "metadata": {},
     "output_type": "execute_result"
    }
   ],
   "source": [
    "nltk.download('wordnet')"
   ]
  },
  {
   "cell_type": "code",
   "execution_count": 131,
   "id": "25c72f40-6746-4e02-bf18-24b22e45e7e1",
   "metadata": {},
   "outputs": [
    {
     "name": "stderr",
     "output_type": "stream",
     "text": [
      "[nltk_data] Downloading package omw-1.4 to\n",
      "[nltk_data]     C:\\Users\\Ammar\\AppData\\Roaming\\nltk_data...\n"
     ]
    },
    {
     "data": {
      "text/plain": [
       "True"
      ]
     },
     "execution_count": 131,
     "metadata": {},
     "output_type": "execute_result"
    }
   ],
   "source": [
    "nltk.download('omw-1.4')"
   ]
  },
  {
   "cell_type": "code",
   "execution_count": 132,
   "id": "21fc3f6e-4f87-43a3-86a6-15f7bcefeb5c",
   "metadata": {},
   "outputs": [],
   "source": [
    "df['reviewText'] = df['reviewText'].apply(lambda x: \" \".join([Word(word).lemmatize() for word in x.split()]))"
   ]
  },
  {
   "cell_type": "code",
   "execution_count": 158,
   "id": "30607135-a4d8-4d26-af50-42c3ece06400",
   "metadata": {},
   "outputs": [
    {
     "data": {
      "text/plain": [
       "0                                                   issue\n",
       "1       purchased device worked advertised never much ...\n",
       "2       work expected higher capacity think made bit e...\n",
       "3       think worked gb card went south one held prett...\n",
       "4       bought retail packaging arrived legit envelope...\n",
       "                              ...                        \n",
       "4910    bought sandisk gb class use htc inspire month ...\n",
       "4911    used capability samsung galaxy note greatly ex...\n",
       "4912    great card fast reliable come optional adapter...\n",
       "4913           good amount space stuff want fit gopro say\n",
       "4914    ive heard bad thing gb micro sd card crapping ...\n",
       "Name: reviewText, Length: 4915, dtype: object"
      ]
     },
     "execution_count": 158,
     "metadata": {},
     "output_type": "execute_result"
    }
   ],
   "source": [
    "df['reviewText']"
   ]
  },
  {
   "cell_type": "markdown",
   "id": "81899cdd-399c-40c5-98cb-01a11b58a463",
   "metadata": {},
   "source": [
    "# Text Visualization"
   ]
  },
  {
   "cell_type": "markdown",
   "id": "90a30738-36d8-4142-a3c3-05671b7954b4",
   "metadata": {},
   "source": [
    "## Calculation of Term Frequencies"
   ]
  },
  {
   "cell_type": "markdown",
   "id": "2e5188dc-2a68-4cd8-8764-34698e396f0c",
   "metadata": {},
   "source": [
    "Pada langkah ini, kami menghitung frekuensi kemunculan kata (tf, atau term frequency) dari semua kata dalam komentar pada kolom 'reviewText'. Kami memisahkan kata-kata dalam setiap komentar, menentukan berapa kali setiap kata muncul dalam komentar tersebut, dan menjumlahkan angka-angka tersebut. Selanjutnya, frekuensi ini diubah menjadi sebuah DataFrame dengan kolom 'words' dan 'tf'. Terakhir, DataFrame ini diurutkan secara menurun berdasarkan nilai 'tf'. Proses ini membantu kami mengidentifikasi kata-kata yang paling sering digunakan dalam komentar serta tingkat kemunculannya, sehingga memungkinkan kami untuk memvisualisasikan dan menganalisis istilah-istilah paling signifikan dalam dataset."
   ]
  },
  {
   "cell_type": "code",
   "execution_count": 134,
   "id": "f2cdd27d-43a2-4637-86e0-5197171e7949",
   "metadata": {},
   "outputs": [],
   "source": [
    "tf = df[\"reviewText\"].apply(lambda x: pd.value_counts(x.split(\" \"))).sum(axis=0).reset_index()"
   ]
  },
  {
   "cell_type": "code",
   "execution_count": 135,
   "id": "da2291d2-99dd-437f-b37c-97c005a611b2",
   "metadata": {},
   "outputs": [],
   "source": [
    "tf.columns = ['words', 'tf']"
   ]
  },
  {
   "cell_type": "code",
   "execution_count": 136,
   "id": "c6d21c09-90fc-418b-a080-2622f319a2a8",
   "metadata": {},
   "outputs": [],
   "source": [
    "tf_sorted = tf.sort_values(by='tf', ascending=False)"
   ]
  },
  {
   "cell_type": "code",
   "execution_count": 159,
   "id": "ee55709f-ed09-43e1-843f-37f4efd07730",
   "metadata": {},
   "outputs": [
    {
     "data": {
      "text/html": [
       "<div>\n",
       "<style scoped>\n",
       "    .dataframe tbody tr th:only-of-type {\n",
       "        vertical-align: middle;\n",
       "    }\n",
       "\n",
       "    .dataframe tbody tr th {\n",
       "        vertical-align: top;\n",
       "    }\n",
       "\n",
       "    .dataframe thead th {\n",
       "        text-align: right;\n",
       "    }\n",
       "</style>\n",
       "<table border=\"1\" class=\"dataframe\">\n",
       "  <thead>\n",
       "    <tr style=\"text-align: right;\">\n",
       "      <th></th>\n",
       "      <th>words</th>\n",
       "      <th>tf</th>\n",
       "    </tr>\n",
       "  </thead>\n",
       "  <tbody>\n",
       "    <tr>\n",
       "      <th>27</th>\n",
       "      <td>card</td>\n",
       "      <td>5537.00</td>\n",
       "    </tr>\n",
       "    <tr>\n",
       "      <th>14</th>\n",
       "      <td>work</td>\n",
       "      <td>2044.00</td>\n",
       "    </tr>\n",
       "    <tr>\n",
       "      <th>7</th>\n",
       "      <td>phone</td>\n",
       "      <td>1909.00</td>\n",
       "    </tr>\n",
       "    <tr>\n",
       "      <th>28</th>\n",
       "      <td>gb</td>\n",
       "      <td>1756.00</td>\n",
       "    </tr>\n",
       "    <tr>\n",
       "      <th>91</th>\n",
       "      <td>great</td>\n",
       "      <td>1445.00</td>\n",
       "    </tr>\n",
       "    <tr>\n",
       "      <th>...</th>\n",
       "      <td>...</td>\n",
       "      <td>...</td>\n",
       "    </tr>\n",
       "    <tr>\n",
       "      <th>3653</th>\n",
       "      <td>recommemd</td>\n",
       "      <td>2.00</td>\n",
       "    </tr>\n",
       "    <tr>\n",
       "      <th>3652</th>\n",
       "      <td>nowhere</td>\n",
       "      <td>2.00</td>\n",
       "    </tr>\n",
       "    <tr>\n",
       "      <th>3651</th>\n",
       "      <td>ultrabook</td>\n",
       "      <td>2.00</td>\n",
       "    </tr>\n",
       "    <tr>\n",
       "      <th>3650</th>\n",
       "      <td>fluke</td>\n",
       "      <td>2.00</td>\n",
       "    </tr>\n",
       "    <tr>\n",
       "      <th>1098</th>\n",
       "      <td></td>\n",
       "      <td>1.00</td>\n",
       "    </tr>\n",
       "  </tbody>\n",
       "</table>\n",
       "<p>3691 rows × 2 columns</p>\n",
       "</div>"
      ],
      "text/plain": [
       "          words      tf\n",
       "27         card 5537.00\n",
       "14         work 2044.00\n",
       "7         phone 1909.00\n",
       "28           gb 1756.00\n",
       "91        great 1445.00\n",
       "...         ...     ...\n",
       "3653  recommemd    2.00\n",
       "3652    nowhere    2.00\n",
       "3651  ultrabook    2.00\n",
       "3650      fluke    2.00\n",
       "1098               1.00\n",
       "\n",
       "[3691 rows x 2 columns]"
      ]
     },
     "execution_count": 159,
     "metadata": {},
     "output_type": "execute_result"
    }
   ],
   "source": [
    "tf_sorted"
   ]
  },
  {
   "cell_type": "markdown",
   "id": "fe8d9423-824b-4f58-a80c-534c5642f5b8",
   "metadata": {},
   "source": [
    "# Barplot"
   ]
  },
  {
   "cell_type": "markdown",
   "id": "c65f70ea-3aac-4d9b-9fe2-3b8d5024b4d8",
   "metadata": {},
   "source": [
    "Pada langkah ini, berdasarkan frekuensi kata (tf) yang telah dihitung sebelumnya, kami memfilter kata-kata dengan frekuensi lebih dari 500. Selanjutnya, kami memvisualisasikan frekuensi kata-kata tersebut menggunakan grafik batang. Sumbu-x pada grafik mewakili kata-kata, sedangkan sumbu-y menunjukkan total kemunculan kata-kata tersebut dalam komentar (tf). Visualisasi ini dengan jelas menampilkan kata-kata yang paling sering muncul dalam dataset kami beserta tingkat kemunculannya, sehingga memungkinkan kami untuk lebih memahami tren dan pola utama dalam data teks."
   ]
  },
  {
   "cell_type": "code",
   "execution_count": 160,
   "id": "3f770296-839a-4780-a5ea-ba9c7b2de1d2",
   "metadata": {},
   "outputs": [
    {
     "data": {
      "image/png": "[encoded data removed]",
      "text/plain": [
       "<Figure size 640x480 with 1 Axes>"
      ]
     },
     "metadata": {},
     "output_type": "display_data"
    }
   ],
   "source": [
    "tf[tf[\"tf\"] > 500].plot.bar(x=\"words\", y=\"tf\")\n",
    "plt.show(block=True)"
   ]
  },
  {
   "cell_type": "markdown",
   "id": "67df6196-5e19-4aff-a78e-feca8553c0a9",
   "metadata": {},
   "source": [
    "# Word Cloud"
   ]
  },
  {
   "cell_type": "markdown",
   "id": "e9b4cd1f-3716-463c-a317-87878fb23c2a",
   "metadata": {},
   "source": [
    "Pada bagian ini, kami membuat dan memvisualisasikan word cloud menggunakan komentar dari kolom 'reviewText'. Tujuannya adalah untuk menampilkan kata-kata yang sering muncul dalam dataset dalam bentuk visual, sehingga dengan jelas memperlihatkan pentingnya dan tingkat kemunculan kata-kata tersebut dalam komentar. Hal ini memungkinkan pengamatan cepat terhadap tren utama dan fitur-fitur menonjol dalam data teks."
   ]
  },
  {
   "cell_type": "code",
   "execution_count": 161,
   "id": "65004ecf-e585-4cca-99de-99564f195aa0",
   "metadata": {},
   "outputs": [
    {
     "data": {
      "image/png": "[encoded data removed]",
      "text/plain": [
       "<Figure size 640x480 with 1 Axes>"
      ]
     },
     "metadata": {},
     "output_type": "display_data"
    }
   ],
   "source": [
    "text = \" \".join(i for i in df.reviewText)\n",
    "\n",
    "wordcloud = WordCloud().generate(text)\n",
    "plt.imshow(wordcloud, interpolation=\"bilinear\")\n",
    "plt.axis(\"off\")\n",
    "plt.show()"
   ]
  },
  {
   "cell_type": "markdown",
   "id": "d2ccbd44-8afb-4716-9521-9ba8f49bcad4",
   "metadata": {},
   "source": [
    "# Sentiment Analysis"
   ]
  },
  {
   "cell_type": "markdown",
   "id": "8dca74f3-6c87-4e8e-bd73-43340a7dcbdf",
   "metadata": {},
   "source": [
    "Pada bagian ini, kami akan melakukan analisis sentimen pada data teks kami. Kami akan mengevaluasi ekspresi emosional dalam teks menggunakan metode matematis untuk menentukan apakah teks-teks tersebut secara umum mengandung sentimen positif, negatif, atau netral. Hal ini memungkinkan kami menyatakan sentimen teks dalam bentuk nilai numerik, sehingga analisis menjadi lebih objektif dan terukur."
   ]
  },
  {
   "cell_type": "code",
   "execution_count": 140,
   "id": "dac0a15f-86c3-4c56-af27-81240646b926",
   "metadata": {},
   "outputs": [
    {
     "name": "stderr",
     "output_type": "stream",
     "text": [
      "[nltk_data] Downloading package vader_lexicon to\n",
      "[nltk_data]     C:\\Users\\Ammar\\AppData\\Roaming\\nltk_data...\n"
     ]
    },
    {
     "data": {
      "text/plain": [
       "True"
      ]
     },
     "execution_count": 140,
     "metadata": {},
     "output_type": "execute_result"
    }
   ],
   "source": [
    "nltk.download('vader_lexicon')"
   ]
  },
  {
   "cell_type": "code",
   "execution_count": 141,
   "id": "e5fffccb-8d9d-4861-ab08-7926523a6946",
   "metadata": {},
   "outputs": [
    {
     "data": {
      "text/plain": [
       "0                                                issue\n",
       "1    purchased device worked advertised never much ...\n",
       "2    work expected higher capacity think made bit e...\n",
       "3    think worked gb card went south one held prett...\n",
       "4    bought retail packaging arrived legit envelope...\n",
       "Name: reviewText, dtype: object"
      ]
     },
     "execution_count": 141,
     "metadata": {},
     "output_type": "execute_result"
    }
   ],
   "source": [
    "df[\"reviewText\"].head()"
   ]
  },
  {
   "cell_type": "code",
   "execution_count": 142,
   "id": "39ee2a67-4ea6-47e4-bb0c-f0b861423962",
   "metadata": {},
   "outputs": [],
   "source": [
    "sia = SentimentIntensityAnalyzer()"
   ]
  },
  {
   "cell_type": "code",
   "execution_count": 143,
   "id": "a79e3a98-ec85-436d-a0e5-f33488fb536a",
   "metadata": {},
   "outputs": [
    {
     "data": {
      "text/plain": [
       "{'neg': 0.0, 'neu': 0.423, 'pos': 0.577, 'compound': 0.6249}"
      ]
     },
     "execution_count": 143,
     "metadata": {},
     "output_type": "execute_result"
    }
   ],
   "source": [
    "sia.polarity_scores(\"The film was awesome\")"
   ]
  },
  {
   "cell_type": "code",
   "execution_count": 144,
   "id": "18182216-d498-4da1-b46f-931c5c5cdcc4",
   "metadata": {},
   "outputs": [
    {
     "data": {
      "text/plain": [
       "{'neg': 0.207, 'neu': 0.666, 'pos': 0.127, 'compound': -0.298}"
      ]
     },
     "execution_count": 144,
     "metadata": {},
     "output_type": "execute_result"
    }
   ],
   "source": [
    "sia.polarity_scores(\"I liked this music but it is not good as the other one\")"
   ]
  },
  {
   "cell_type": "code",
   "execution_count": 145,
   "id": "e182818d-df87-45f5-838d-ad1439cf41c1",
   "metadata": {},
   "outputs": [
    {
     "data": {
      "text/plain": [
       "0    {'neg': 0.0, 'neu': 1.0, 'pos': 0.0, 'compound...\n",
       "1    {'neg': 0.0, 'neu': 1.0, 'pos': 0.0, 'compound...\n",
       "2    {'neg': 0.0, 'neu': 0.803, 'pos': 0.197, 'comp...\n",
       "3    {'neg': 0.0, 'neu': 0.798, 'pos': 0.202, 'comp...\n",
       "4    {'neg': 0.0, 'neu': 0.747, 'pos': 0.253, 'comp...\n",
       "5    {'neg': 0.0, 'neu': 1.0, 'pos': 0.0, 'compound...\n",
       "6    {'neg': 0.108, 'neu': 0.598, 'pos': 0.295, 'co...\n",
       "7    {'neg': 0.077, 'neu': 0.65, 'pos': 0.272, 'com...\n",
       "8    {'neg': 0.0, 'neu': 1.0, 'pos': 0.0, 'compound...\n",
       "9    {'neg': 0.0, 'neu': 0.457, 'pos': 0.543, 'comp...\n",
       "Name: reviewText, dtype: object"
      ]
     },
     "execution_count": 145,
     "metadata": {},
     "output_type": "execute_result"
    }
   ],
   "source": [
    "df[\"reviewText\"][0:10].apply(lambda x: sia.polarity_scores(x))"
   ]
  },
  {
   "cell_type": "code",
   "execution_count": 146,
   "id": "ba85b4e9-b95d-4921-8644-1b47fce6fb67",
   "metadata": {},
   "outputs": [
    {
     "data": {
      "text/plain": [
       "0   0.00\n",
       "1   0.00\n",
       "2   0.40\n",
       "3   0.65\n",
       "4   0.86\n",
       "5   0.00\n",
       "6   0.87\n",
       "7   0.82\n",
       "8   0.00\n",
       "9   0.92\n",
       "Name: reviewText, dtype: float64"
      ]
     },
     "execution_count": 146,
     "metadata": {},
     "output_type": "execute_result"
    }
   ],
   "source": [
    "df[\"reviewText\"][0:10].apply(lambda x: sia.polarity_scores(x)[\"compound\"])"
   ]
  },
  {
   "cell_type": "code",
   "execution_count": 147,
   "id": "b2100473-7ce4-4509-a9f7-5e002cda8e02",
   "metadata": {},
   "outputs": [],
   "source": [
    "df[\"polarity_score\"] = df[\"reviewText\"].apply(lambda x: sia.polarity_scores(x)[\"compound\"])"
   ]
  },
  {
   "cell_type": "code",
   "execution_count": 162,
   "id": "82316563-57b8-4111-b23d-e0f30f6497e0",
   "metadata": {},
   "outputs": [
    {
     "data": {
      "text/html": [
       "<div>\n",
       "<style scoped>\n",
       "    .dataframe tbody tr th:only-of-type {\n",
       "        vertical-align: middle;\n",
       "    }\n",
       "\n",
       "    .dataframe tbody tr th {\n",
       "        vertical-align: top;\n",
       "    }\n",
       "\n",
       "    .dataframe thead th {\n",
       "        text-align: right;\n",
       "    }\n",
       "</style>\n",
       "<table border=\"1\" class=\"dataframe\">\n",
       "  <thead>\n",
       "    <tr style=\"text-align: right;\">\n",
       "      <th></th>\n",
       "      <th>reviewerID</th>\n",
       "      <th>asin</th>\n",
       "      <th>reviewerName</th>\n",
       "      <th>helpful</th>\n",
       "      <th>reviewText</th>\n",
       "      <th>overall</th>\n",
       "      <th>summary</th>\n",
       "      <th>unixReviewTime</th>\n",
       "      <th>reviewTime</th>\n",
       "      <th>day_diff</th>\n",
       "      <th>helpful_yes</th>\n",
       "      <th>total_vote</th>\n",
       "      <th>polarity_score</th>\n",
       "    </tr>\n",
       "  </thead>\n",
       "  <tbody>\n",
       "    <tr>\n",
       "      <th>0</th>\n",
       "      <td>A3SBTW3WS4IQSN</td>\n",
       "      <td>B007WTAJTO</td>\n",
       "      <td>NaN</td>\n",
       "      <td>[0, 0]</td>\n",
       "      <td>issue</td>\n",
       "      <td>4.00</td>\n",
       "      <td>Four Stars</td>\n",
       "      <td>1406073600</td>\n",
       "      <td>2014-07-23</td>\n",
       "      <td>138</td>\n",
       "      <td>0</td>\n",
       "      <td>0</td>\n",
       "      <td>0.00</td>\n",
       "    </tr>\n",
       "    <tr>\n",
       "      <th>1</th>\n",
       "      <td>A18K1ODH1I2MVB</td>\n",
       "      <td>B007WTAJTO</td>\n",
       "      <td>0mie</td>\n",
       "      <td>[0, 0]</td>\n",
       "      <td>purchased device worked advertised never much ...</td>\n",
       "      <td>5.00</td>\n",
       "      <td>MOAR SPACE!!!</td>\n",
       "      <td>1382659200</td>\n",
       "      <td>2013-10-25</td>\n",
       "      <td>409</td>\n",
       "      <td>0</td>\n",
       "      <td>0</td>\n",
       "      <td>0.00</td>\n",
       "    </tr>\n",
       "    <tr>\n",
       "      <th>2</th>\n",
       "      <td>A2FII3I2MBMUIA</td>\n",
       "      <td>B007WTAJTO</td>\n",
       "      <td>1K3</td>\n",
       "      <td>[0, 0]</td>\n",
       "      <td>work expected higher capacity think made bit e...</td>\n",
       "      <td>4.00</td>\n",
       "      <td>nothing to really say....</td>\n",
       "      <td>1356220800</td>\n",
       "      <td>2012-12-23</td>\n",
       "      <td>715</td>\n",
       "      <td>0</td>\n",
       "      <td>0</td>\n",
       "      <td>0.40</td>\n",
       "    </tr>\n",
       "    <tr>\n",
       "      <th>3</th>\n",
       "      <td>A3H99DFEG68SR</td>\n",
       "      <td>B007WTAJTO</td>\n",
       "      <td>1m2</td>\n",
       "      <td>[0, 0]</td>\n",
       "      <td>think worked gb card went south one held prett...</td>\n",
       "      <td>5.00</td>\n",
       "      <td>Great buy at this price!!!  *** UPDATE</td>\n",
       "      <td>1384992000</td>\n",
       "      <td>2013-11-21</td>\n",
       "      <td>382</td>\n",
       "      <td>0</td>\n",
       "      <td>0</td>\n",
       "      <td>0.65</td>\n",
       "    </tr>\n",
       "    <tr>\n",
       "      <th>4</th>\n",
       "      <td>A375ZM4U047O79</td>\n",
       "      <td>B007WTAJTO</td>\n",
       "      <td>2&amp;amp;1/2Men</td>\n",
       "      <td>[0, 0]</td>\n",
       "      <td>bought retail packaging arrived legit envelope...</td>\n",
       "      <td>5.00</td>\n",
       "      <td>best deal around</td>\n",
       "      <td>1373673600</td>\n",
       "      <td>2013-07-13</td>\n",
       "      <td>513</td>\n",
       "      <td>0</td>\n",
       "      <td>0</td>\n",
       "      <td>0.86</td>\n",
       "    </tr>\n",
       "    <tr>\n",
       "      <th>5</th>\n",
       "      <td>A2IDCSC6NVONIZ</td>\n",
       "      <td>B007WTAJTO</td>\n",
       "      <td>2Cents!</td>\n",
       "      <td>[0, 0]</td>\n",
       "      <td>mini storage doesnt anything else supposed pur...</td>\n",
       "      <td>5.00</td>\n",
       "      <td>Not a lot to really be said</td>\n",
       "      <td>1367193600</td>\n",
       "      <td>2013-04-29</td>\n",
       "      <td>588</td>\n",
       "      <td>0</td>\n",
       "      <td>0</td>\n",
       "      <td>0.00</td>\n",
       "    </tr>\n",
       "    <tr>\n",
       "      <th>6</th>\n",
       "      <td>A26YHXZD5UFPVQ</td>\n",
       "      <td>B007WTAJTO</td>\n",
       "      <td>2K1Toaster</td>\n",
       "      <td>[0, 0]</td>\n",
       "      <td>phone never skip beat file transfer speedy cor...</td>\n",
       "      <td>5.00</td>\n",
       "      <td>Works well</td>\n",
       "      <td>1382140800</td>\n",
       "      <td>2013-10-19</td>\n",
       "      <td>415</td>\n",
       "      <td>0</td>\n",
       "      <td>0</td>\n",
       "      <td>0.87</td>\n",
       "    </tr>\n",
       "    <tr>\n",
       "      <th>7</th>\n",
       "      <td>A3CW0ZLUO5X2B1</td>\n",
       "      <td>B007WTAJTO</td>\n",
       "      <td>35-year Technology Consumer \"8-tracks to 802.11\"</td>\n",
       "      <td>[0, 0]</td>\n",
       "      <td>hard believe affordable digital become gb devi...</td>\n",
       "      <td>5.00</td>\n",
       "      <td>32 GB for less than two sawbucks...what's not ...</td>\n",
       "      <td>1404950400</td>\n",
       "      <td>2014-10-07</td>\n",
       "      <td>62</td>\n",
       "      <td>0</td>\n",
       "      <td>0</td>\n",
       "      <td>0.82</td>\n",
       "    </tr>\n",
       "    <tr>\n",
       "      <th>8</th>\n",
       "      <td>A2CYJO155QP33S</td>\n",
       "      <td>B007WTAJTO</td>\n",
       "      <td>4evryoung</td>\n",
       "      <td>[1, 1]</td>\n",
       "      <td>work htc rezound running short space gb sandis...</td>\n",
       "      <td>5.00</td>\n",
       "      <td>Loads of room</td>\n",
       "      <td>1395619200</td>\n",
       "      <td>2014-03-24</td>\n",
       "      <td>259</td>\n",
       "      <td>1</td>\n",
       "      <td>1</td>\n",
       "      <td>0.00</td>\n",
       "    </tr>\n",
       "    <tr>\n",
       "      <th>9</th>\n",
       "      <td>A2S7XG3ZC4VGOQ</td>\n",
       "      <td>B007WTAJTO</td>\n",
       "      <td>53rdcard</td>\n",
       "      <td>[0, 0]</td>\n",
       "      <td>galaxy super fast card totally happy happy sti...</td>\n",
       "      <td>5.00</td>\n",
       "      <td>works great</td>\n",
       "      <td>1381449600</td>\n",
       "      <td>2013-11-10</td>\n",
       "      <td>393</td>\n",
       "      <td>0</td>\n",
       "      <td>0</td>\n",
       "      <td>0.92</td>\n",
       "    </tr>\n",
       "    <tr>\n",
       "      <th>10</th>\n",
       "      <td>A1RTQROTWR5NCB</td>\n",
       "      <td>B007WTAJTO</td>\n",
       "      <td>808TREX50</td>\n",
       "      <td>[0, 0]</td>\n",
       "      <td>like sd card take music video downloads person...</td>\n",
       "      <td>5.00</td>\n",
       "      <td>32GB MicroSD Card.</td>\n",
       "      <td>1368230400</td>\n",
       "      <td>2013-11-05</td>\n",
       "      <td>398</td>\n",
       "      <td>0</td>\n",
       "      <td>0</td>\n",
       "      <td>0.94</td>\n",
       "    </tr>\n",
       "    <tr>\n",
       "      <th>11</th>\n",
       "      <td>A2Q3ICGWZLY3JJ</td>\n",
       "      <td>B007WTAJTO</td>\n",
       "      <td>98020</td>\n",
       "      <td>[0, 0]</td>\n",
       "      <td>work file writes bit slower expected usb read ...</td>\n",
       "      <td>3.00</td>\n",
       "      <td>It works, but not as fast as expected</td>\n",
       "      <td>1384905600</td>\n",
       "      <td>2013-11-20</td>\n",
       "      <td>383</td>\n",
       "      <td>0</td>\n",
       "      <td>0</td>\n",
       "      <td>0.00</td>\n",
       "    </tr>\n",
       "    <tr>\n",
       "      <th>12</th>\n",
       "      <td>AN2VFTXYW1SZU</td>\n",
       "      <td>B007WTAJTO</td>\n",
       "      <td>9z4cda</td>\n",
       "      <td>[0, 0]</td>\n",
       "      <td>name speaks go sandisk go</td>\n",
       "      <td>5.00</td>\n",
       "      <td>A RENOUND NAME BRAND</td>\n",
       "      <td>1404432000</td>\n",
       "      <td>2014-04-07</td>\n",
       "      <td>245</td>\n",
       "      <td>0</td>\n",
       "      <td>0</td>\n",
       "      <td>0.00</td>\n",
       "    </tr>\n",
       "    <tr>\n",
       "      <th>13</th>\n",
       "      <td>AVHN134ADVP4R</td>\n",
       "      <td>B007WTAJTO</td>\n",
       "      <td>A4Q96 \"Gadget Lover\"</td>\n",
       "      <td>[0, 0]</td>\n",
       "      <td>solid sdhc card fast reading writing fast reco...</td>\n",
       "      <td>5.00</td>\n",
       "      <td>Great SDHC card</td>\n",
       "      <td>1384992000</td>\n",
       "      <td>2013-11-21</td>\n",
       "      <td>382</td>\n",
       "      <td>0</td>\n",
       "      <td>0</td>\n",
       "      <td>0.82</td>\n",
       "    </tr>\n",
       "    <tr>\n",
       "      <th>14</th>\n",
       "      <td>A3EA7KGYC8LB0</td>\n",
       "      <td>B007WTAJTO</td>\n",
       "      <td>Aaron \"Aaron\"</td>\n",
       "      <td>[0, 0]</td>\n",
       "      <td>heard card write speed insufficient however us...</td>\n",
       "      <td>5.00</td>\n",
       "      <td>Use it for my GoPro Hero 3+ Black</td>\n",
       "      <td>1392595200</td>\n",
       "      <td>2014-02-17</td>\n",
       "      <td>294</td>\n",
       "      <td>0</td>\n",
       "      <td>0</td>\n",
       "      <td>0.31</td>\n",
       "    </tr>\n",
       "    <tr>\n",
       "      <th>15</th>\n",
       "      <td>A29RI184HRX66H</td>\n",
       "      <td>B007WTAJTO</td>\n",
       "      <td>Aaron \"Aaron\"</td>\n",
       "      <td>[0, 0]</td>\n",
       "      <td>bought use go pro hero black edition requires ...</td>\n",
       "      <td>5.00</td>\n",
       "      <td>Awesome price, great brand name</td>\n",
       "      <td>1357257600</td>\n",
       "      <td>2013-04-01</td>\n",
       "      <td>616</td>\n",
       "      <td>0</td>\n",
       "      <td>0</td>\n",
       "      <td>0.72</td>\n",
       "    </tr>\n",
       "    <tr>\n",
       "      <th>16</th>\n",
       "      <td>A2G9ZHVA6IOGBY</td>\n",
       "      <td>B007WTAJTO</td>\n",
       "      <td>Aaron Alvarez</td>\n",
       "      <td>[0, 0]</td>\n",
       "      <td>got gb one filled kept getting insufficient di...</td>\n",
       "      <td>5.00</td>\n",
       "      <td>great price. fast</td>\n",
       "      <td>1393718400</td>\n",
       "      <td>2014-02-03</td>\n",
       "      <td>308</td>\n",
       "      <td>0</td>\n",
       "      <td>0</td>\n",
       "      <td>0.85</td>\n",
       "    </tr>\n",
       "    <tr>\n",
       "      <th>17</th>\n",
       "      <td>A1OATGH4DF0RF0</td>\n",
       "      <td>B007WTAJTO</td>\n",
       "      <td>Aaron F. Virginie</td>\n",
       "      <td>[0, 1]</td>\n",
       "      <td>class speed rating seamless full hd sandisk ul...</td>\n",
       "      <td>5.00</td>\n",
       "      <td>Get Fast Load Times</td>\n",
       "      <td>1372896000</td>\n",
       "      <td>2013-04-07</td>\n",
       "      <td>610</td>\n",
       "      <td>0</td>\n",
       "      <td>1</td>\n",
       "      <td>0.90</td>\n",
       "    </tr>\n",
       "    <tr>\n",
       "      <th>18</th>\n",
       "      <td>A1V6CQACZ9IOLC</td>\n",
       "      <td>B007WTAJTO</td>\n",
       "      <td>Aaron Graves</td>\n",
       "      <td>[0, 0]</td>\n",
       "      <td>read write speed better samsung sd card previo...</td>\n",
       "      <td>5.00</td>\n",
       "      <td>Very good little Micro SD card</td>\n",
       "      <td>1398988800</td>\n",
       "      <td>2014-02-05</td>\n",
       "      <td>306</td>\n",
       "      <td>0</td>\n",
       "      <td>0</td>\n",
       "      <td>0.85</td>\n",
       "    </tr>\n",
       "    <tr>\n",
       "      <th>19</th>\n",
       "      <td>A2ELBSIZ26GKM2</td>\n",
       "      <td>B007WTAJTO</td>\n",
       "      <td>Aaron</td>\n",
       "      <td>[0, 0]</td>\n",
       "      <td>work video stuttering like gb blah blah blah b...</td>\n",
       "      <td>5.00</td>\n",
       "      <td>works</td>\n",
       "      <td>1389052800</td>\n",
       "      <td>2014-07-01</td>\n",
       "      <td>160</td>\n",
       "      <td>0</td>\n",
       "      <td>0</td>\n",
       "      <td>-0.34</td>\n",
       "    </tr>\n",
       "  </tbody>\n",
       "</table>\n",
       "</div>"
      ],
      "text/plain": [
       "        reviewerID        asin                                      reviewerName helpful                                         reviewText  overall  \\\n",
       "0   A3SBTW3WS4IQSN  B007WTAJTO                                               NaN  [0, 0]                                              issue     4.00   \n",
       "1   A18K1ODH1I2MVB  B007WTAJTO                                              0mie  [0, 0]  purchased device worked advertised never much ...     5.00   \n",
       "2   A2FII3I2MBMUIA  B007WTAJTO                                               1K3  [0, 0]  work expected higher capacity think made bit e...     4.00   \n",
       "3    A3H99DFEG68SR  B007WTAJTO                                               1m2  [0, 0]  think worked gb card went south one held prett...     5.00   \n",
       "4   A375ZM4U047O79  B007WTAJTO                                      2&amp;1/2Men  [0, 0]  bought retail packaging arrived legit envelope...     5.00   \n",
       "5   A2IDCSC6NVONIZ  B007WTAJTO                                           2Cents!  [0, 0]  mini storage doesnt anything else supposed pur...     5.00   \n",
       "6   A26YHXZD5UFPVQ  B007WTAJTO                                        2K1Toaster  [0, 0]  phone never skip beat file transfer speedy cor...     5.00   \n",
       "7   A3CW0ZLUO5X2B1  B007WTAJTO  35-year Technology Consumer \"8-tracks to 802.11\"  [0, 0]  hard believe affordable digital become gb devi...     5.00   \n",
       "8   A2CYJO155QP33S  B007WTAJTO                                         4evryoung  [1, 1]  work htc rezound running short space gb sandis...     5.00   \n",
       "9   A2S7XG3ZC4VGOQ  B007WTAJTO                                          53rdcard  [0, 0]  galaxy super fast card totally happy happy sti...     5.00   \n",
       "10  A1RTQROTWR5NCB  B007WTAJTO                                         808TREX50  [0, 0]  like sd card take music video downloads person...     5.00   \n",
       "11  A2Q3ICGWZLY3JJ  B007WTAJTO                                             98020  [0, 0]  work file writes bit slower expected usb read ...     3.00   \n",
       "12   AN2VFTXYW1SZU  B007WTAJTO                                            9z4cda  [0, 0]                          name speaks go sandisk go     5.00   \n",
       "13   AVHN134ADVP4R  B007WTAJTO                              A4Q96 \"Gadget Lover\"  [0, 0]  solid sdhc card fast reading writing fast reco...     5.00   \n",
       "14   A3EA7KGYC8LB0  B007WTAJTO                                     Aaron \"Aaron\"  [0, 0]  heard card write speed insufficient however us...     5.00   \n",
       "15  A29RI184HRX66H  B007WTAJTO                                     Aaron \"Aaron\"  [0, 0]  bought use go pro hero black edition requires ...     5.00   \n",
       "16  A2G9ZHVA6IOGBY  B007WTAJTO                                     Aaron Alvarez  [0, 0]  got gb one filled kept getting insufficient di...     5.00   \n",
       "17  A1OATGH4DF0RF0  B007WTAJTO                                 Aaron F. Virginie  [0, 1]  class speed rating seamless full hd sandisk ul...     5.00   \n",
       "18  A1V6CQACZ9IOLC  B007WTAJTO                                      Aaron Graves  [0, 0]  read write speed better samsung sd card previo...     5.00   \n",
       "19  A2ELBSIZ26GKM2  B007WTAJTO                                             Aaron  [0, 0]  work video stuttering like gb blah blah blah b...     5.00   \n",
       "\n",
       "                                              summary  unixReviewTime  reviewTime  day_diff  helpful_yes  total_vote  polarity_score  \n",
       "0                                          Four Stars      1406073600  2014-07-23       138            0           0            0.00  \n",
       "1                                       MOAR SPACE!!!      1382659200  2013-10-25       409            0           0            0.00  \n",
       "2                           nothing to really say....      1356220800  2012-12-23       715            0           0            0.40  \n",
       "3              Great buy at this price!!!  *** UPDATE      1384992000  2013-11-21       382            0           0            0.65  \n",
       "4                                    best deal around      1373673600  2013-07-13       513            0           0            0.86  \n",
       "5                         Not a lot to really be said      1367193600  2013-04-29       588            0           0            0.00  \n",
       "6                                          Works well      1382140800  2013-10-19       415            0           0            0.87  \n",
       "7   32 GB for less than two sawbucks...what's not ...      1404950400  2014-10-07        62            0           0            0.82  \n",
       "8                                       Loads of room      1395619200  2014-03-24       259            1           1            0.00  \n",
       "9                                         works great      1381449600  2013-11-10       393            0           0            0.92  \n",
       "10                                 32GB MicroSD Card.      1368230400  2013-11-05       398            0           0            0.94  \n",
       "11              It works, but not as fast as expected      1384905600  2013-11-20       383            0           0            0.00  \n",
       "12                               A RENOUND NAME BRAND      1404432000  2014-04-07       245            0           0            0.00  \n",
       "13                                    Great SDHC card      1384992000  2013-11-21       382            0           0            0.82  \n",
       "14                  Use it for my GoPro Hero 3+ Black      1392595200  2014-02-17       294            0           0            0.31  \n",
       "15                    Awesome price, great brand name      1357257600  2013-04-01       616            0           0            0.72  \n",
       "16                                  great price. fast      1393718400  2014-02-03       308            0           0            0.85  \n",
       "17                                Get Fast Load Times      1372896000  2013-04-07       610            0           1            0.90  \n",
       "18                     Very good little Micro SD card      1398988800  2014-02-05       306            0           0            0.85  \n",
       "19                                              works      1389052800  2014-07-01       160            0           0           -0.34  "
      ]
     },
     "execution_count": 162,
     "metadata": {},
     "output_type": "execute_result"
    }
   ],
   "source": [
    "df.head(20)"
   ]
  },
  {
   "cell_type": "markdown",
   "id": "ddc8b5e9-13b4-4206-ab26-d407ea6014c9",
   "metadata": {},
   "source": [
    "# Feature Engineering"
   ]
  },
  {
   "cell_type": "markdown",
   "id": "301d6438-17d4-4b51-b833-45a38b110e23",
   "metadata": {},
   "source": [
    "Pada bagian ini, analisis sentimen dilakukan untuk menentukan nada emosional dari teks-teks tersebut, dan setiap komentar diberi label sebagai 'positif' (pos) atau 'negatif' (neg) berdasarkan skor sentimen gabungan (compound sentiment score)-nya. Selanjutnya, kita memeriksa distribusi label sentimen ini dalam dataset serta hubungannya dengan skor rating keseluruhan. Terakhir, label sentimen ini diubah menjadi nilai numerik untuk digunakan dalam model pembelajaran mesin. Langkah-langkah ini membantu kita mengekstrak fitur yang bermakna dari data teks, sehingga siap untuk tahap analisis dan pemodelan selanjutnya."
   ]
  },
  {
   "cell_type": "code",
   "execution_count": 163,
   "id": "7cb66554-5eb5-438f-bc25-1f5bb324df6b",
   "metadata": {},
   "outputs": [
    {
     "data": {
      "text/plain": [
       "0    neg\n",
       "1    neg\n",
       "2    pos\n",
       "3    pos\n",
       "4    pos\n",
       "5    neg\n",
       "6    pos\n",
       "7    pos\n",
       "8    neg\n",
       "9    pos\n",
       "Name: reviewText, dtype: object"
      ]
     },
     "execution_count": 163,
     "metadata": {},
     "output_type": "execute_result"
    }
   ],
   "source": [
    "df[\"reviewText\"][0:10].apply(lambda x: \"pos\" if sia.polarity_scores(x)[\"compound\"] > 0 else \"neg\")"
   ]
  },
  {
   "cell_type": "code",
   "execution_count": 164,
   "id": "d92298ff-a010-482e-8914-c53d4097d275",
   "metadata": {},
   "outputs": [],
   "source": [
    "df[\"sentiment_label\"] = df[\"reviewText\"].apply(lambda x: \"pos\" if sia.polarity_scores(x)[\"compound\"] > 0 else \"neg\")"
   ]
  },
  {
   "cell_type": "code",
   "execution_count": 165,
   "id": "dc61a5f3-dad0-45b7-959f-4a3dd1d04162",
   "metadata": {},
   "outputs": [
    {
     "data": {
      "text/html": [
       "<div>\n",
       "<style scoped>\n",
       "    .dataframe tbody tr th:only-of-type {\n",
       "        vertical-align: middle;\n",
       "    }\n",
       "\n",
       "    .dataframe tbody tr th {\n",
       "        vertical-align: top;\n",
       "    }\n",
       "\n",
       "    .dataframe thead th {\n",
       "        text-align: right;\n",
       "    }\n",
       "</style>\n",
       "<table border=\"1\" class=\"dataframe\">\n",
       "  <thead>\n",
       "    <tr style=\"text-align: right;\">\n",
       "      <th></th>\n",
       "      <th>reviewerID</th>\n",
       "      <th>asin</th>\n",
       "      <th>reviewerName</th>\n",
       "      <th>helpful</th>\n",
       "      <th>reviewText</th>\n",
       "      <th>overall</th>\n",
       "      <th>summary</th>\n",
       "      <th>unixReviewTime</th>\n",
       "      <th>reviewTime</th>\n",
       "      <th>day_diff</th>\n",
       "      <th>helpful_yes</th>\n",
       "      <th>total_vote</th>\n",
       "      <th>polarity_score</th>\n",
       "      <th>sentiment_label</th>\n",
       "    </tr>\n",
       "  </thead>\n",
       "  <tbody>\n",
       "    <tr>\n",
       "      <th>0</th>\n",
       "      <td>A3SBTW3WS4IQSN</td>\n",
       "      <td>B007WTAJTO</td>\n",
       "      <td>NaN</td>\n",
       "      <td>[0, 0]</td>\n",
       "      <td>issue</td>\n",
       "      <td>4.00</td>\n",
       "      <td>Four Stars</td>\n",
       "      <td>1406073600</td>\n",
       "      <td>2014-07-23</td>\n",
       "      <td>138</td>\n",
       "      <td>0</td>\n",
       "      <td>0</td>\n",
       "      <td>0.00</td>\n",
       "      <td>neg</td>\n",
       "    </tr>\n",
       "    <tr>\n",
       "      <th>1</th>\n",
       "      <td>A18K1ODH1I2MVB</td>\n",
       "      <td>B007WTAJTO</td>\n",
       "      <td>0mie</td>\n",
       "      <td>[0, 0]</td>\n",
       "      <td>purchased device worked advertised never much ...</td>\n",
       "      <td>5.00</td>\n",
       "      <td>MOAR SPACE!!!</td>\n",
       "      <td>1382659200</td>\n",
       "      <td>2013-10-25</td>\n",
       "      <td>409</td>\n",
       "      <td>0</td>\n",
       "      <td>0</td>\n",
       "      <td>0.00</td>\n",
       "      <td>neg</td>\n",
       "    </tr>\n",
       "    <tr>\n",
       "      <th>2</th>\n",
       "      <td>A2FII3I2MBMUIA</td>\n",
       "      <td>B007WTAJTO</td>\n",
       "      <td>1K3</td>\n",
       "      <td>[0, 0]</td>\n",
       "      <td>work expected higher capacity think made bit e...</td>\n",
       "      <td>4.00</td>\n",
       "      <td>nothing to really say....</td>\n",
       "      <td>1356220800</td>\n",
       "      <td>2012-12-23</td>\n",
       "      <td>715</td>\n",
       "      <td>0</td>\n",
       "      <td>0</td>\n",
       "      <td>0.40</td>\n",
       "      <td>pos</td>\n",
       "    </tr>\n",
       "    <tr>\n",
       "      <th>3</th>\n",
       "      <td>A3H99DFEG68SR</td>\n",
       "      <td>B007WTAJTO</td>\n",
       "      <td>1m2</td>\n",
       "      <td>[0, 0]</td>\n",
       "      <td>think worked gb card went south one held prett...</td>\n",
       "      <td>5.00</td>\n",
       "      <td>Great buy at this price!!!  *** UPDATE</td>\n",
       "      <td>1384992000</td>\n",
       "      <td>2013-11-21</td>\n",
       "      <td>382</td>\n",
       "      <td>0</td>\n",
       "      <td>0</td>\n",
       "      <td>0.65</td>\n",
       "      <td>pos</td>\n",
       "    </tr>\n",
       "    <tr>\n",
       "      <th>4</th>\n",
       "      <td>A375ZM4U047O79</td>\n",
       "      <td>B007WTAJTO</td>\n",
       "      <td>2&amp;amp;1/2Men</td>\n",
       "      <td>[0, 0]</td>\n",
       "      <td>bought retail packaging arrived legit envelope...</td>\n",
       "      <td>5.00</td>\n",
       "      <td>best deal around</td>\n",
       "      <td>1373673600</td>\n",
       "      <td>2013-07-13</td>\n",
       "      <td>513</td>\n",
       "      <td>0</td>\n",
       "      <td>0</td>\n",
       "      <td>0.86</td>\n",
       "      <td>pos</td>\n",
       "    </tr>\n",
       "  </tbody>\n",
       "</table>\n",
       "</div>"
      ],
      "text/plain": [
       "       reviewerID        asin  reviewerName helpful                                         reviewText  overall                                 summary  unixReviewTime  reviewTime  day_diff  \\\n",
       "0  A3SBTW3WS4IQSN  B007WTAJTO           NaN  [0, 0]                                              issue     4.00                              Four Stars      1406073600  2014-07-23       138   \n",
       "1  A18K1ODH1I2MVB  B007WTAJTO          0mie  [0, 0]  purchased device worked advertised never much ...     5.00                           MOAR SPACE!!!      1382659200  2013-10-25       409   \n",
       "2  A2FII3I2MBMUIA  B007WTAJTO           1K3  [0, 0]  work expected higher capacity think made bit e...     4.00               nothing to really say....      1356220800  2012-12-23       715   \n",
       "3   A3H99DFEG68SR  B007WTAJTO           1m2  [0, 0]  think worked gb card went south one held prett...     5.00  Great buy at this price!!!  *** UPDATE      1384992000  2013-11-21       382   \n",
       "4  A375ZM4U047O79  B007WTAJTO  2&amp;1/2Men  [0, 0]  bought retail packaging arrived legit envelope...     5.00                        best deal around      1373673600  2013-07-13       513   \n",
       "\n",
       "   helpful_yes  total_vote  polarity_score sentiment_label  \n",
       "0            0           0            0.00             neg  \n",
       "1            0           0            0.00             neg  \n",
       "2            0           0            0.40             pos  \n",
       "3            0           0            0.65             pos  \n",
       "4            0           0            0.86             pos  "
      ]
     },
     "execution_count": 165,
     "metadata": {},
     "output_type": "execute_result"
    }
   ],
   "source": [
    "df.head()"
   ]
  },
  {
   "cell_type": "code",
   "execution_count": 166,
   "id": "4023c1ef-e31b-47c0-91a6-d45455f8c40a",
   "metadata": {},
   "outputs": [
    {
     "data": {
      "text/plain": [
       "sentiment_label\n",
       "pos    3944\n",
       "neg     971\n",
       "Name: count, dtype: int64"
      ]
     },
     "execution_count": 166,
     "metadata": {},
     "output_type": "execute_result"
    }
   ],
   "source": [
    "df[\"sentiment_label\"].value_counts()"
   ]
  },
  {
   "cell_type": "code",
   "execution_count": 167,
   "id": "bb226d73-0ea6-48ba-9c12-a013e12851a3",
   "metadata": {},
   "outputs": [
    {
     "data": {
      "text/plain": [
       "sentiment_label\n",
       "neg   4.09\n",
       "pos   4.71\n",
       "Name: overall, dtype: float64"
      ]
     },
     "execution_count": 167,
     "metadata": {},
     "output_type": "execute_result"
    }
   ],
   "source": [
    "df.groupby(\"sentiment_label\")[\"overall\"].mean()"
   ]
  },
  {
   "cell_type": "code",
   "execution_count": 168,
   "id": "5435cc0c-ac80-49d8-a7b0-eb4db267dac2",
   "metadata": {},
   "outputs": [],
   "source": [
    "df[\"sentiment_label\"] = LabelEncoder().fit_transform(df[\"sentiment_label\"])"
   ]
  },
  {
   "cell_type": "code",
   "execution_count": 169,
   "id": "0679dd99-951f-455b-9806-0b9fa74460af",
   "metadata": {},
   "outputs": [
    {
     "data": {
      "text/html": [
       "<div>\n",
       "<style scoped>\n",
       "    .dataframe tbody tr th:only-of-type {\n",
       "        vertical-align: middle;\n",
       "    }\n",
       "\n",
       "    .dataframe tbody tr th {\n",
       "        vertical-align: top;\n",
       "    }\n",
       "\n",
       "    .dataframe thead th {\n",
       "        text-align: right;\n",
       "    }\n",
       "</style>\n",
       "<table border=\"1\" class=\"dataframe\">\n",
       "  <thead>\n",
       "    <tr style=\"text-align: right;\">\n",
       "      <th></th>\n",
       "      <th>reviewerID</th>\n",
       "      <th>asin</th>\n",
       "      <th>reviewerName</th>\n",
       "      <th>helpful</th>\n",
       "      <th>reviewText</th>\n",
       "      <th>overall</th>\n",
       "      <th>summary</th>\n",
       "      <th>unixReviewTime</th>\n",
       "      <th>reviewTime</th>\n",
       "      <th>day_diff</th>\n",
       "      <th>helpful_yes</th>\n",
       "      <th>total_vote</th>\n",
       "      <th>polarity_score</th>\n",
       "      <th>sentiment_label</th>\n",
       "    </tr>\n",
       "  </thead>\n",
       "  <tbody>\n",
       "    <tr>\n",
       "      <th>0</th>\n",
       "      <td>A3SBTW3WS4IQSN</td>\n",
       "      <td>B007WTAJTO</td>\n",
       "      <td>NaN</td>\n",
       "      <td>[0, 0]</td>\n",
       "      <td>issue</td>\n",
       "      <td>4.00</td>\n",
       "      <td>Four Stars</td>\n",
       "      <td>1406073600</td>\n",
       "      <td>2014-07-23</td>\n",
       "      <td>138</td>\n",
       "      <td>0</td>\n",
       "      <td>0</td>\n",
       "      <td>0.00</td>\n",
       "      <td>0</td>\n",
       "    </tr>\n",
       "    <tr>\n",
       "      <th>1</th>\n",
       "      <td>A18K1ODH1I2MVB</td>\n",
       "      <td>B007WTAJTO</td>\n",
       "      <td>0mie</td>\n",
       "      <td>[0, 0]</td>\n",
       "      <td>purchased device worked advertised never much ...</td>\n",
       "      <td>5.00</td>\n",
       "      <td>MOAR SPACE!!!</td>\n",
       "      <td>1382659200</td>\n",
       "      <td>2013-10-25</td>\n",
       "      <td>409</td>\n",
       "      <td>0</td>\n",
       "      <td>0</td>\n",
       "      <td>0.00</td>\n",
       "      <td>0</td>\n",
       "    </tr>\n",
       "    <tr>\n",
       "      <th>2</th>\n",
       "      <td>A2FII3I2MBMUIA</td>\n",
       "      <td>B007WTAJTO</td>\n",
       "      <td>1K3</td>\n",
       "      <td>[0, 0]</td>\n",
       "      <td>work expected higher capacity think made bit e...</td>\n",
       "      <td>4.00</td>\n",
       "      <td>nothing to really say....</td>\n",
       "      <td>1356220800</td>\n",
       "      <td>2012-12-23</td>\n",
       "      <td>715</td>\n",
       "      <td>0</td>\n",
       "      <td>0</td>\n",
       "      <td>0.40</td>\n",
       "      <td>1</td>\n",
       "    </tr>\n",
       "    <tr>\n",
       "      <th>3</th>\n",
       "      <td>A3H99DFEG68SR</td>\n",
       "      <td>B007WTAJTO</td>\n",
       "      <td>1m2</td>\n",
       "      <td>[0, 0]</td>\n",
       "      <td>think worked gb card went south one held prett...</td>\n",
       "      <td>5.00</td>\n",
       "      <td>Great buy at this price!!!  *** UPDATE</td>\n",
       "      <td>1384992000</td>\n",
       "      <td>2013-11-21</td>\n",
       "      <td>382</td>\n",
       "      <td>0</td>\n",
       "      <td>0</td>\n",
       "      <td>0.65</td>\n",
       "      <td>1</td>\n",
       "    </tr>\n",
       "    <tr>\n",
       "      <th>4</th>\n",
       "      <td>A375ZM4U047O79</td>\n",
       "      <td>B007WTAJTO</td>\n",
       "      <td>2&amp;amp;1/2Men</td>\n",
       "      <td>[0, 0]</td>\n",
       "      <td>bought retail packaging arrived legit envelope...</td>\n",
       "      <td>5.00</td>\n",
       "      <td>best deal around</td>\n",
       "      <td>1373673600</td>\n",
       "      <td>2013-07-13</td>\n",
       "      <td>513</td>\n",
       "      <td>0</td>\n",
       "      <td>0</td>\n",
       "      <td>0.86</td>\n",
       "      <td>1</td>\n",
       "    </tr>\n",
       "  </tbody>\n",
       "</table>\n",
       "</div>"
      ],
      "text/plain": [
       "       reviewerID        asin  reviewerName helpful                                         reviewText  overall                                 summary  unixReviewTime  reviewTime  day_diff  \\\n",
       "0  A3SBTW3WS4IQSN  B007WTAJTO           NaN  [0, 0]                                              issue     4.00                              Four Stars      1406073600  2014-07-23       138   \n",
       "1  A18K1ODH1I2MVB  B007WTAJTO          0mie  [0, 0]  purchased device worked advertised never much ...     5.00                           MOAR SPACE!!!      1382659200  2013-10-25       409   \n",
       "2  A2FII3I2MBMUIA  B007WTAJTO           1K3  [0, 0]  work expected higher capacity think made bit e...     4.00               nothing to really say....      1356220800  2012-12-23       715   \n",
       "3   A3H99DFEG68SR  B007WTAJTO           1m2  [0, 0]  think worked gb card went south one held prett...     5.00  Great buy at this price!!!  *** UPDATE      1384992000  2013-11-21       382   \n",
       "4  A375ZM4U047O79  B007WTAJTO  2&amp;1/2Men  [0, 0]  bought retail packaging arrived legit envelope...     5.00                        best deal around      1373673600  2013-07-13       513   \n",
       "\n",
       "   helpful_yes  total_vote  polarity_score  sentiment_label  \n",
       "0            0           0            0.00                0  \n",
       "1            0           0            0.00                0  \n",
       "2            0           0            0.40                1  \n",
       "3            0           0            0.65                1  \n",
       "4            0           0            0.86                1  "
      ]
     },
     "execution_count": 169,
     "metadata": {},
     "output_type": "execute_result"
    }
   ],
   "source": [
    "df.head()"
   ]
  },
  {
   "cell_type": "code",
   "execution_count": 170,
   "id": "1036fa3b-8423-4557-ac97-6a7716c966ad",
   "metadata": {},
   "outputs": [],
   "source": [
    "y = df[\"sentiment_label\"] # dependent variable"
   ]
  },
  {
   "cell_type": "code",
   "execution_count": 171,
   "id": "b1fb1adc-e6bd-4d21-b57b-6725728a5056",
   "metadata": {},
   "outputs": [],
   "source": [
    "X = df[\"reviewText\"] # independent variable"
   ]
  },
  {
   "cell_type": "markdown",
   "id": "a583f432-c67f-4caf-b935-393108e2bd3b",
   "metadata": {},
   "source": [
    "# Count Vectors"
   ]
  },
  {
   "cell_type": "markdown",
   "id": "0cdcf9a8-504b-458a-8938-860c1bf89c65",
   "metadata": {},
   "source": [
    "Pada bagian ini, teks-teks dalam kolom 'reviewText' diubah menjadi vektor numerik menggunakan metode CountVectorizer. Selama proses transformasi ini, frekuensi setiap kata dalam teks dihitung, dan frekuensi tersebut digunakan untuk mengonversi setiap teks menjadi vektor numerik. Langkah ini sangat penting untuk mengubah data teks menjadi format yang sesuai agar dapat digunakan dalam model pembelajaran mesin. Representasi numerik dari teks ini memudahkan ekstraksi fitur-fitur penting dan pemrosesan data yang efisien selama proses pemodelan."
   ]
  },
  {
   "cell_type": "markdown",
   "id": "a0cc5630-1720-4dcf-9ccc-2a8103a4b27c",
   "metadata": {},
   "source": [
    "## Word Frequency"
   ]
  },
  {
   "cell_type": "code",
   "execution_count": 172,
   "id": "fb3859a2-7507-4792-a2a2-9aca49b679e3",
   "metadata": {},
   "outputs": [],
   "source": [
    "vectorizer = CountVectorizer()"
   ]
  },
  {
   "cell_type": "code",
   "execution_count": 173,
   "id": "e8ff0c6d-1539-451b-b41d-ef875cad4dc9",
   "metadata": {},
   "outputs": [],
   "source": [
    "X_count = vectorizer.fit_transform(X)"
   ]
  },
  {
   "cell_type": "code",
   "execution_count": 174,
   "id": "915e17d0-096a-43e6-b572-3d12e75fb0a3",
   "metadata": {},
   "outputs": [
    {
     "data": {
      "text/plain": [
       "array(['access', 'accessed', 'accessible', 'accessing', 'accessory'],\n",
       "      dtype=object)"
      ]
     },
     "execution_count": 174,
     "metadata": {},
     "output_type": "execute_result"
    }
   ],
   "source": [
    "vectorizer.get_feature_names_out()[10:15]"
   ]
  },
  {
   "cell_type": "code",
   "execution_count": 175,
   "id": "194ebcb0-3956-4b1d-a612-3bb4312a00ec",
   "metadata": {},
   "outputs": [
    {
     "data": {
      "text/plain": [
       "array([[0, 0, 0, ..., 0, 0, 0],\n",
       "       [0, 0, 0, ..., 0, 0, 0],\n",
       "       [0, 0, 0, ..., 0, 0, 0],\n",
       "       [0, 0, 0, ..., 0, 0, 0],\n",
       "       [0, 0, 0, ..., 0, 0, 0]], shape=(5, 3668))"
      ]
     },
     "execution_count": 175,
     "metadata": {},
     "output_type": "execute_result"
    }
   ],
   "source": [
    "X_count.toarray()[10:15]"
   ]
  },
  {
   "cell_type": "markdown",
   "id": "c4f958c6-8d8f-4a67-944e-0f0d7254ec20",
   "metadata": {},
   "source": [
    "## N-Gram Frequency"
   ]
  },
  {
   "cell_type": "code",
   "execution_count": 176,
   "id": "b6eef51c-4c80-4980-9f60-385068e4c2cd",
   "metadata": {},
   "outputs": [],
   "source": [
    "vectorizer2 = CountVectorizer(analyzer='word', ngram_range=(2, 2))"
   ]
  },
  {
   "cell_type": "code",
   "execution_count": 177,
   "id": "01a7ebdf-f337-4296-929a-ab25df73acc7",
   "metadata": {},
   "outputs": [],
   "source": [
    "X_n = vectorizer2.fit_transform(X)"
   ]
  },
  {
   "cell_type": "code",
   "execution_count": 178,
   "id": "b61fea23-60b2-48f1-8b68-d8f841ca44fa",
   "metadata": {},
   "outputs": [
    {
     "data": {
      "text/plain": [
       "array(['ability put', 'ability sandisk', 'ability something',\n",
       "       'ability stick', 'ability store'], dtype=object)"
      ]
     },
     "execution_count": 178,
     "metadata": {},
     "output_type": "execute_result"
    }
   ],
   "source": [
    "vectorizer2.get_feature_names_out()[10:15]"
   ]
  },
  {
   "cell_type": "code",
   "execution_count": 179,
   "id": "4691f8d8-20a4-4080-a2d8-dec399cfd7ed",
   "metadata": {},
   "outputs": [
    {
     "data": {
      "text/plain": [
       "array([[0, 0, 0, ..., 0, 0, 0],\n",
       "       [0, 0, 0, ..., 0, 0, 0],\n",
       "       [0, 0, 0, ..., 0, 0, 0],\n",
       "       ...,\n",
       "       [0, 0, 0, ..., 0, 0, 0],\n",
       "       [0, 0, 0, ..., 0, 0, 0],\n",
       "       [0, 0, 0, ..., 0, 0, 0]], shape=(4915, 62323))"
      ]
     },
     "execution_count": 179,
     "metadata": {},
     "output_type": "execute_result"
    }
   ],
   "source": [
    "X_n.toarray()"
   ]
  },
  {
   "cell_type": "markdown",
   "id": "2fac970d-903c-4f2a-8ebd-190ab45d3065",
   "metadata": {},
   "source": [
    "## TF-IDF"
   ]
  },
  {
   "cell_type": "code",
   "execution_count": 180,
   "id": "70c0f130-020c-4d85-bd4d-6622973b6322",
   "metadata": {},
   "outputs": [],
   "source": [
    "tf_idf_word_vectorizer = TfidfVectorizer()"
   ]
  },
  {
   "cell_type": "code",
   "execution_count": 181,
   "id": "1bed69b1-007e-4e94-a876-018d4f0e5d51",
   "metadata": {},
   "outputs": [],
   "source": [
    "X_tf_idf_word = tf_idf_word_vectorizer.fit_transform(X)"
   ]
  },
  {
   "cell_type": "code",
   "execution_count": 182,
   "id": "f3343849-545e-448f-a06f-9ed96b0f21d7",
   "metadata": {},
   "outputs": [],
   "source": [
    "tf_idf_ngram_vectorizer = TfidfVectorizer(ngram_range=(2, 3))"
   ]
  },
  {
   "cell_type": "code",
   "execution_count": 183,
   "id": "c0de505d-7dd5-4fef-a88e-be077f3105d7",
   "metadata": {},
   "outputs": [],
   "source": [
    "X_tf_idf_ngram = tf_idf_ngram_vectorizer.fit_transform(X)"
   ]
  },
  {
   "cell_type": "markdown",
   "id": "f4b72fdb-e76c-4e04-a846-402bf226c2f2",
   "metadata": {},
   "source": [
    "# Sentiment Modeling"
   ]
  },
  {
   "cell_type": "markdown",
   "id": "3f73f7c1-47f5-4840-a3b5-9d98c179b0c5",
   "metadata": {},
   "source": [
    "## Logistic Regression"
   ]
  },
  {
   "cell_type": "code",
   "execution_count": 184,
   "id": "770becf6-60c3-4f1c-b22a-4a1969186855",
   "metadata": {},
   "outputs": [],
   "source": [
    "log_model = LogisticRegression().fit(X_tf_idf_word, y)"
   ]
  },
  {
   "cell_type": "code",
   "execution_count": 185,
   "id": "dd7dd050-b39d-4d03-83b1-83bf440c4fce",
   "metadata": {},
   "outputs": [
    {
     "data": {
      "text/plain": [
       "np.float64(0.830111902339776)"
      ]
     },
     "execution_count": 185,
     "metadata": {},
     "output_type": "execute_result"
    }
   ],
   "source": [
    "cross_val_score(log_model,\n",
    "                X_tf_idf_word,\n",
    "                y,\n",
    "                scoring=\"accuracy\",\n",
    "                cv=5).mean()"
   ]
  },
  {
   "cell_type": "code",
   "execution_count": 186,
   "id": "b8a85468-2b62-4382-8ea9-c0b77f974fda",
   "metadata": {},
   "outputs": [],
   "source": [
    "new_review = pd.Series(\"this product is great\")"
   ]
  },
  {
   "cell_type": "code",
   "execution_count": 187,
   "id": "febb1cc9-7fd0-4414-8729-2274f38bc712",
   "metadata": {},
   "outputs": [],
   "source": [
    "new_review = pd.Series(\"look at that shit very bad\")"
   ]
  },
  {
   "cell_type": "code",
   "execution_count": 188,
   "id": "5309fadd-3317-4908-afe6-7f460e5ce9ea",
   "metadata": {},
   "outputs": [],
   "source": [
    "new_review = pd.Series(\"it was good but I am sure that it fits me\")"
   ]
  },
  {
   "cell_type": "code",
   "execution_count": 189,
   "id": "05056bb4-fffb-4697-b670-872abf53fd4f",
   "metadata": {},
   "outputs": [],
   "source": [
    "new_review = TfidfVectorizer().fit(X).transform(new_review)"
   ]
  },
  {
   "cell_type": "code",
   "execution_count": 190,
   "id": "9a88e424-a07a-4469-8cf5-3f5bc08ed300",
   "metadata": {},
   "outputs": [
    {
     "data": {
      "text/plain": [
       "array([1])"
      ]
     },
     "execution_count": 190,
     "metadata": {},
     "output_type": "execute_result"
    }
   ],
   "source": [
    "log_model.predict(new_review)"
   ]
  },
  {
   "cell_type": "code",
   "execution_count": 191,
   "id": "f517a003-58dc-4681-b8de-9ab0d1987677",
   "metadata": {},
   "outputs": [],
   "source": [
    "random_review = pd.Series(df[\"reviewText\"].sample(1).values)"
   ]
  },
  {
   "cell_type": "code",
   "execution_count": 192,
   "id": "805e25c6-5983-43c2-a1a7-391625be44a6",
   "metadata": {},
   "outputs": [],
   "source": [
    "new_review = TfidfVectorizer().fit(X).transform(random_review)"
   ]
  },
  {
   "cell_type": "code",
   "execution_count": 193,
   "id": "175f75f1-358f-4226-a7f2-7b53770d9cd1",
   "metadata": {},
   "outputs": [
    {
     "data": {
      "text/plain": [
       "array([1])"
      ]
     },
     "execution_count": 193,
     "metadata": {},
     "output_type": "execute_result"
    }
   ],
   "source": [
    "log_model.predict(new_review)"
   ]
  },
  {
   "cell_type": "code",
   "execution_count": null,
   "id": "1e598443-6710-49a4-a7d3-2fd99591939b",
   "metadata": {},
   "outputs": [],
   "source": []
  },
  {
   "cell_type": "code",
   "execution_count": null,
   "id": "7d01a386-a3bf-418e-8b8a-6c4e66740bcb",
   "metadata": {},
   "outputs": [],
   "source": []
  }
 ],
 "metadata": {
  "kernelspec": {
   "display_name": "Python 3 (ipykernel)",
   "language": "python",
   "name": "python3"
  },
  "language_info": {
   "codemirror_mode": {
    "name": "ipython",
    "version": 3
   },
   "file_extension": ".py",
   "mimetype": "text/x-python",
   "name": "python",
   "nbconvert_exporter": "python",
   "pygments_lexer": "ipython3",
   "version": "3.12.7"
  }
 },
 "nbformat": 4,
 "nbformat_minor": 5
}
